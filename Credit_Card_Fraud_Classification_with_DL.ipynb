{
  "nbformat": 4,
  "nbformat_minor": 0,
  "metadata": {
    "colab": {
      "private_outputs": true,
      "provenance": []
    },
    "kernelspec": {
      "name": "python3",
      "display_name": "Python 3"
    },
    "language_info": {
      "name": "python"
    }
  },
  "cells": [
    {
      "cell_type": "markdown",
      "source": [
        "**Credit Card Fraud Detection - Classification**\n",
        "### Anonymized credit card transactions labeled as fraudulent or genuine\n",
        "\n",
        "\n",
        "---\n",
        "\n",
        "\n",
        "The dataset contains transactions made by credit cards in September 2013 by European cardholders. This dataset presents transactions that occurred in two days, where we have 492 frauds out of 284,807 transactions. The dataset is highly unbalanced, the positive class (frauds) account for 0.172% of all transactions.\n",
        "\n",
        "\n",
        "---\n",
        "\n",
        "\n",
        "**Context**\n",
        "\n",
        "It is important that credit card companies are able to recognize fraudulent credit card transactions so that customers are not charged for items that they did not purchase.\n",
        "\n",
        "\n",
        "---\n",
        "\n",
        "\n",
        "**Content**\n",
        "\n",
        "The dataset contains transactions made by credit cards in September 2013 by European cardholders.\n",
        "This dataset presents transactions that occurred in two days, where we have 492 frauds out of 284,807 transactions. The dataset is highly unbalanced, the positive class (frauds) account for 0.172% of all transactions.\n",
        "\n",
        "It contains only numerical input variables which are the result of a PCA transformation. Unfortunately, due to confidentiality issues, we cannot provide the original features and more background information about the data. Features V1, V2, … V28 are the principal components obtained with PCA, the only features which have not been transformed with PCA are 'Time' and 'Amount'. Feature 'Time' contains the seconds elapsed between each transaction and the first transaction in the dataset. The feature 'Amount' is the transaction Amount, this feature can be used for example-dependant cost-sensitive learning. Feature 'Class' is the response variable and it takes value 1 in case of fraud and 0 otherwise.\n",
        "\n",
        "Given the class imbalance ratio, we recommend measuring the accuracy using the Area Under the Precision-Recall Curve (AUPRC). Confusion matrix accuracy is not meaningful for unbalanced classification."
      ],
      "metadata": {
        "id": "A51NSd5G8cqh"
      }
    },
    {
      "cell_type": "code",
      "source": [
        "# Importing Required Lib\n",
        "import numpy as np\n",
        "import pandas as pd\n",
        "import seaborn as sb\n",
        "import matplotlib.pyplot as plt\n",
        "import tensorflow as tf\n",
        "\n",
        "import warnings\n",
        "warnings.filterwarnings('ignore')"
      ],
      "metadata": {
        "id": "Ko_MCarU9TwW"
      },
      "execution_count": null,
      "outputs": []
    },
    {
      "cell_type": "code",
      "source": [
        "# reading the data set\n",
        "data_df = pd.read_csv('/content/drive/MyDrive/Colab Notebooks/Deep Learning/creditcard.csv')"
      ],
      "metadata": {
        "id": "FyVf9_74_O1e"
      },
      "execution_count": null,
      "outputs": []
    },
    {
      "cell_type": "code",
      "source": [
        "#showing top 5 records\n",
        "data_df.head()"
      ],
      "metadata": {
        "id": "fE_gUmatJcJy"
      },
      "execution_count": null,
      "outputs": []
    },
    {
      "cell_type": "code",
      "source": [
        "# Checking shape of data set\n",
        "data_df.shape"
      ],
      "metadata": {
        "id": "zEQRDpooUJJx"
      },
      "execution_count": null,
      "outputs": []
    },
    {
      "cell_type": "code",
      "source": [
        "# Checking Data Types\n",
        "data_df.dtypes"
      ],
      "metadata": {
        "id": "ce0-MvbuUPec"
      },
      "execution_count": null,
      "outputs": []
    },
    {
      "cell_type": "code",
      "source": [
        "# Checking Null values\n",
        "data_df.isnull().sum()"
      ],
      "metadata": {
        "id": "HHuS2y69Jfcl"
      },
      "execution_count": null,
      "outputs": []
    },
    {
      "cell_type": "code",
      "source": [
        "# NO null values"
      ],
      "metadata": {
        "id": "8hForQIzJzhn"
      },
      "execution_count": null,
      "outputs": []
    },
    {
      "cell_type": "code",
      "source": [
        "# Duplicate Entry\n",
        "data_df.duplicated().sum()"
      ],
      "metadata": {
        "id": "NMRh5DQkTzl3"
      },
      "execution_count": null,
      "outputs": []
    },
    {
      "cell_type": "code",
      "source": [
        "# We have 1081 Duplicate Entry out of 284807 entry. Let remove it first before moving forward. \n",
        "\n",
        "data_df.drop_duplicates(inplace = True)"
      ],
      "metadata": {
        "id": "Gx_4Aa7PUD2V"
      },
      "execution_count": null,
      "outputs": []
    },
    {
      "cell_type": "code",
      "source": [
        "data_df.duplicated().sum()"
      ],
      "metadata": {
        "id": "8qUFM2J9UvOG"
      },
      "execution_count": null,
      "outputs": []
    },
    {
      "cell_type": "code",
      "source": [
        "# Let Describe our data\n",
        "data_df.describe()"
      ],
      "metadata": {
        "id": "irZSZsfGU3BL"
      },
      "execution_count": null,
      "outputs": []
    },
    {
      "cell_type": "code",
      "source": [
        "# The classes are heavily skewed we need to solve this issue later.\n",
        "print('No Frauds', round(data_df['Class'].value_counts()[0]/len(data_df) * 100,2), '% of the dataset')\n",
        "print('Frauds', round(data_df['Class'].value_counts()[1]/len(data_df) * 100,2), '% of the dataset')"
      ],
      "metadata": {
        "id": "9E-OoSNzU-XJ"
      },
      "execution_count": null,
      "outputs": []
    },
    {
      "cell_type": "markdown",
      "source": [
        "**Note:**  Most of the transactions are non-fraud. If we use this dataframe as the base for our predictive models and analysis we might get a lot of errors and our algorithms will probably overfit since it will \"assume\" that most transactions are not fraud. But we don't want our model to assume, we want our model to detect patterns that give signs of fraud!"
      ],
      "metadata": {
        "id": "9ZnvPAClVZM_"
      }
    },
    {
      "cell_type": "code",
      "source": [
        "sb.countplot(data = data_df, x = 'Class')\n",
        "plt.title('Class Distributions \\n (0 -- No Fraud & 1 --Fraud)')\n",
        "plt.show()"
      ],
      "metadata": {
        "id": "V-OKypFlVNSk"
      },
      "execution_count": null,
      "outputs": []
    },
    {
      "cell_type": "code",
      "source": [
        "plt.figure(figsize = (30,15))\n",
        "sb.heatmap(data_df.corr(), annot = True)"
      ],
      "metadata": {
        "id": "ZETk8tG8VwE5"
      },
      "execution_count": null,
      "outputs": []
    },
    {
      "cell_type": "code",
      "source": [
        "X = data_df[['Amount', 'Time']]\n",
        "Y = data_df['Class']"
      ],
      "metadata": {
        "id": "0rG1ULGmuQFk"
      },
      "execution_count": null,
      "outputs": []
    },
    {
      "cell_type": "code",
      "source": [
        "from sklearn.model_selection import train_test_split"
      ],
      "metadata": {
        "id": "mwvHrrQcu7kH"
      },
      "execution_count": null,
      "outputs": []
    },
    {
      "cell_type": "code",
      "source": [
        "X_train,X_test, Y_train,Y_test = train_test_split(X,Y, test_size = 0.3, random_state = 1)"
      ],
      "metadata": {
        "id": "iIFvOnDWvDXh"
      },
      "execution_count": null,
      "outputs": []
    },
    {
      "cell_type": "code",
      "source": [
        "Y_train.value_counts()"
      ],
      "metadata": {
        "id": "tnFuvdOzvMht"
      },
      "execution_count": null,
      "outputs": []
    },
    {
      "cell_type": "code",
      "source": [
        "# Converts minority class to majority class\n",
        "\n",
        "from imblearn.over_sampling import RandomOverSampler"
      ],
      "metadata": {
        "id": "p3QfEqmUvWKx"
      },
      "execution_count": null,
      "outputs": []
    },
    {
      "cell_type": "code",
      "source": [
        "ros = RandomOverSampler(random_state= 1)"
      ],
      "metadata": {
        "id": "ScPTpgDXvYei"
      },
      "execution_count": null,
      "outputs": []
    },
    {
      "cell_type": "code",
      "source": [
        "X_train1, Y_train1 = ros.fit_resample(X_train, Y_train)"
      ],
      "metadata": {
        "id": "aiPdeS0cvdwI"
      },
      "execution_count": null,
      "outputs": []
    },
    {
      "cell_type": "code",
      "source": [
        "X_test1, Y_test1 = ros.fit_resample(X_test,Y_test)"
      ],
      "metadata": {
        "id": "Ins56XSTvg_2"
      },
      "execution_count": null,
      "outputs": []
    },
    {
      "cell_type": "code",
      "source": [
        "Y_train1.value_counts()"
      ],
      "metadata": {
        "id": "Aj-dgb6Yvjm_"
      },
      "execution_count": null,
      "outputs": []
    },
    {
      "cell_type": "code",
      "source": [
        "Y_test1.value_counts()"
      ],
      "metadata": {
        "id": "Di5PheYSvoKR"
      },
      "execution_count": null,
      "outputs": []
    },
    {
      "cell_type": "code",
      "source": [
        "from sklearn.preprocessing import StandardScaler"
      ],
      "metadata": {
        "id": "8mH_1wTyv0O2"
      },
      "execution_count": null,
      "outputs": []
    },
    {
      "cell_type": "code",
      "source": [
        "ss = StandardScaler()\n",
        "X_train1 = ss.fit_transform(X_train1)\n",
        "X_test1 = ss.transform(X_test1)"
      ],
      "metadata": {
        "id": "TK09WWvGv28F"
      },
      "execution_count": null,
      "outputs": []
    },
    {
      "cell_type": "code",
      "source": [
        "# Creat model\n",
        "model = tf.keras.Sequential([\n",
        "    # First Layer\n",
        "    tf.keras.layers.Dense(units = 64, activation = 'relu', input_shape = (X.shape[1],)),\n",
        "    # Second Layer\n",
        "    tf.keras.layers.Dense(units = 32, activation = 'relu'),\n",
        "    # Third Layer\n",
        "    tf.keras.layers.Dense(units = 16, activation = 'relu'),\n",
        "    # Fourth Layer\n",
        "    tf.keras.layers.Dense(units = 8, activation = 'relu'),\n",
        "    # output\n",
        "    tf.keras.layers.Dense(units = 1, activation = 'sigmoid'),\n",
        "                              ])"
      ],
      "metadata": {
        "id": "lnet1clIv4wt"
      },
      "execution_count": null,
      "outputs": []
    },
    {
      "cell_type": "code",
      "source": [
        "model.summary()"
      ],
      "metadata": {
        "id": "Y6AH0iXif3rF"
      },
      "execution_count": null,
      "outputs": []
    },
    {
      "cell_type": "code",
      "source": [
        "model.compile(optimizer ='adam', loss = 'binary_crossentropy', metrics = ['accuracy'])"
      ],
      "metadata": {
        "id": "Q2zNpLCef6io"
      },
      "execution_count": null,
      "outputs": []
    },
    {
      "cell_type": "code",
      "source": [
        "# create a procedure for EARLY STOPING\n",
        "# calling inbuilt class:   EarlyStopping\n",
        "\n",
        "from tensorflow.keras.callbacks import EarlyStopping\n",
        "\n",
        "#create object  \n",
        "cb = EarlyStopping(monitor = 'val_loss',   # Mention parameter to monitor .. it may me loss or score\n",
        "                   min_delta = 0.0001,     # diff btw new and previous loss: bydefault we take 0.0001\n",
        "                   patience = 20,          \n",
        "                   verbose =1,\n",
        "                   mode = 'auto',\n",
        "                   baseline = None,\n",
        "                   restore_best_weights =False)"
      ],
      "metadata": {
        "id": "_PhcD6v9f90D"
      },
      "execution_count": null,
      "outputs": []
    },
    {
      "cell_type": "code",
      "source": [
        "# train the model: use inbuilt method fit() of Sequential class\n",
        "\n",
        "train_model = model.fit(X_train1, Y_train1,epochs =5000,validation_data=(X_test1,Y_test1), callbacks = cb)"
      ],
      "metadata": {
        "id": "rUasPP7VgAua"
      },
      "execution_count": null,
      "outputs": []
    },
    {
      "cell_type": "code",
      "source": [
        "# Here we see that out model is Underfit ....No we will increse the no of Hidden layer\n",
        "print(\"Traning Loss and Accuracy: \", model.evaluate(X_train1, Y_train1))\n",
        "print(\"Testing Loss and Accuracy: \", model.evaluate(X_test1, Y_test1))"
      ],
      "metadata": {
        "id": "lCbKhGpsgGBe"
      },
      "execution_count": null,
      "outputs": []
    },
    {
      "cell_type": "code",
      "source": [
        "# Visulisation\n",
        "plt.plot(train_model.history['loss'],label = 'Traning Loss')\n",
        "plt.plot(train_model.history['val_loss'],label = 'Testing Loss')\n",
        "plt.xlabel('Epochs')\n",
        "plt.ylabel('binary_crossentropy')\n",
        "plt.legend()\n",
        "plt.show()"
      ],
      "metadata": {
        "id": "91ZRvIJemVk6"
      },
      "execution_count": null,
      "outputs": []
    },
    {
      "cell_type": "code",
      "source": [
        "# Visulisation\n",
        "plt.plot(train_model.history['accuracy'],label = 'Traning Loss')\n",
        "plt.plot(train_model.history['val_accuracy'],label = 'Testing Loss')\n",
        "plt.xlabel('Epochs')\n",
        "plt.ylabel('Accuracy')\n",
        "plt.legend()\n",
        "plt.show()"
      ],
      "metadata": {
        "id": "FDlzx0dgmedd"
      },
      "execution_count": null,
      "outputs": []
    },
    {
      "cell_type": "markdown",
      "source": [
        "**Here we see that our model is Overfit.Now we use dropout to reduce this overfiting.**"
      ],
      "metadata": {
        "id": "nT59m9GummQ_"
      }
    },
    {
      "cell_type": "code",
      "source": [
        "# Create model with Dropout\n",
        "\n",
        "from tensorflow.keras.layers import Dropout\n",
        "model_1 = tf.keras.Sequential([\n",
        "    # First Layer\n",
        "    tf.keras.layers.Dense(units = 64, activation = 'relu', input_shape = (X.shape[1],)),Dropout(0.25),\n",
        "    # Second Layer\n",
        "    tf.keras.layers.Dense(units = 32, activation = 'relu'),Dropout(0.25),\n",
        "    # Third Layer\n",
        "    tf.keras.layers.Dense(units = 16, activation = 'relu'),Dropout(0.25),\n",
        "    # Fourth Layer\n",
        "    tf.keras.layers.Dense(units = 8, activation = 'relu'),Dropout(0.25),\n",
        "    # output\n",
        "    tf.keras.layers.Dense(units = 1, activation = 'sigmoid'),\n",
        "                              ])"
      ],
      "metadata": {
        "id": "k-AS5zMgm1GT"
      },
      "execution_count": null,
      "outputs": []
    },
    {
      "cell_type": "code",
      "source": [
        "model_1.compile(optimizer = 'adam', loss = 'binary_crossentropy', metrics = ['accuracy'])"
      ],
      "metadata": {
        "id": "sLTzCQVtnF0h"
      },
      "execution_count": null,
      "outputs": []
    },
    {
      "cell_type": "code",
      "source": [
        "# train the model: use inbuilt method fit() of Sequential class\n",
        "\n",
        "train_model = model_1.fit(X_train1, Y_train1,epochs =5000,validation_data=(X_test1,Y_test1), callbacks = cb)"
      ],
      "metadata": {
        "id": "nopAG8BgnHv2"
      },
      "execution_count": null,
      "outputs": []
    },
    {
      "cell_type": "code",
      "source": [
        "# Here we see that out model is Underfit ....No we will increse the no of Hidden layer\n",
        "print(\"Traning Loss and Accuracy: \", model_1.evaluate(X_train1, Y_train1))\n",
        "print(\"Testing Loss and Accuracy: \", model_1.evaluate(X_test1, Y_test1))"
      ],
      "metadata": {
        "id": "-IrezL5anKpX"
      },
      "execution_count": null,
      "outputs": []
    },
    {
      "cell_type": "code",
      "source": [
        "# Visulisation\n",
        "plt.plot(train_model.history['loss'],label = 'Traning Loss')\n",
        "plt.plot(train_model.history['val_loss'],label = 'Testing Loss')\n",
        "plt.xlabel('Epochs')\n",
        "plt.ylabel('binary_crossentropy')\n",
        "plt.legend()\n",
        "plt.show()"
      ],
      "metadata": {
        "id": "k5KgzcfHqgCf"
      },
      "execution_count": null,
      "outputs": []
    },
    {
      "cell_type": "code",
      "source": [
        "# Visulisation\n",
        "plt.plot(train_model.history['accuracy'],label = 'Traning Loss')\n",
        "plt.plot(train_model.history['val_accuracy'],label = 'Testing Loss')\n",
        "plt.xlabel('Epochs')\n",
        "plt.ylabel('Accuracy')\n",
        "plt.legend()\n",
        "plt.show()"
      ],
      "metadata": {
        "id": "8tYIPmOQqkYi"
      },
      "execution_count": null,
      "outputs": []
    },
    {
      "cell_type": "markdown",
      "source": [
        "**Still it look like overfit model. Now we use regularizer with Dropout.**"
      ],
      "metadata": {
        "id": "Zj27IOExq4lN"
      }
    },
    {
      "cell_type": "code",
      "source": [
        "# Creat model\n",
        "\n",
        "from tensorflow.keras import regularizers\n",
        "model_2 = tf.keras.Sequential([\n",
        "    # First Layer\n",
        "    tf.keras.layers.Dense(units = 64, activation = 'relu',\n",
        "                          kernel_regularizer = regularizers.l2(0.01),input_shape = (X.shape[1],)),Dropout(0.3),\n",
        "    # Second Layer\n",
        "    tf.keras.layers.Dense(units = 32, activation = 'relu',kernel_regularizer = regularizers.l2(0.01)),Dropout(0.3),\n",
        "    # Third Layer\n",
        "    tf.keras.layers.Dense(units = 16, activation = 'relu',kernel_regularizer = regularizers.l2(0.01)),Dropout(0.3),\n",
        "    # fourth Layer\n",
        "    tf.keras.layers.Dense(units = 8, activation = 'relu',kernel_regularizer = regularizers.l2(0.01)),Dropout(0.3),\n",
        "    # output\n",
        "    tf.keras.layers.Dense(units = 1, activation = 'sigmoid',kernel_regularizer = regularizers.l2(0.01)),\n",
        "                              ])"
      ],
      "metadata": {
        "id": "lUzihi8NqwHu"
      },
      "execution_count": null,
      "outputs": []
    },
    {
      "cell_type": "code",
      "source": [
        "model_2.compile(optimizer = 'adam', loss = 'binary_crossentropy', metrics = ['accuracy'])"
      ],
      "metadata": {
        "id": "k0ifeU5crLaG"
      },
      "execution_count": null,
      "outputs": []
    },
    {
      "cell_type": "code",
      "source": [
        "# train the model: use inbuilt method fit() of Sequential class\n",
        "\n",
        "train_model = model_2.fit(X_train1, Y_train1,epochs =5000,validation_data=(X_test1,Y_test1), callbacks = cb)"
      ],
      "metadata": {
        "id": "AfG0GuB4rNYY"
      },
      "execution_count": null,
      "outputs": []
    },
    {
      "cell_type": "code",
      "source": [
        "# Here we see that out model is Underfit ....No we will increse the no of Hidden layer\n",
        "print(\"Traning Loss and Accuracy: \", model_2.evaluate(X_train1, Y_train1))\n",
        "print(\"Testing Loss and Accuracy: \", model_2.evaluate(X_test1, Y_test1))"
      ],
      "metadata": {
        "id": "6me85P3QrPbD"
      },
      "execution_count": null,
      "outputs": []
    },
    {
      "cell_type": "code",
      "source": [
        "# Visulisation\n",
        "plt.plot(train_model.history['accuracy'],label = 'Traning Loss')\n",
        "plt.plot(train_model.history['val_accuracy'],label = 'Testing Loss')\n",
        "plt.xlabel('Epochs')\n",
        "plt.ylabel('Accuracy')\n",
        "plt.legend()\n",
        "plt.show()"
      ],
      "metadata": {
        "id": "3MdDLZRaZwzC"
      },
      "execution_count": null,
      "outputs": []
    },
    {
      "cell_type": "code",
      "source": [
        "# Visulisation\n",
        "plt.plot(train_model.history['loss'],label = 'Traning Loss')\n",
        "plt.plot(train_model.history['val_loss'],label = 'Testing Loss')\n",
        "plt.xlabel('Epochs')\n",
        "plt.ylabel('binary_crossentropy')\n",
        "plt.legend()\n",
        "plt.show()"
      ],
      "metadata": {
        "id": "7fQJiCK93wU-"
      },
      "execution_count": null,
      "outputs": []
    }
  ]
}